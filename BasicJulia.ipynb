{
 "cells": [
  {
   "cell_type": "code",
   "execution_count": 1,
   "id": "d5182741",
   "metadata": {},
   "outputs": [
    {
     "name": "stdout",
     "output_type": "stream",
     "text": [
      "Hello, World"
     ]
    }
   ],
   "source": [
    "# comment in julia\n",
    "print(\"Hello, World\") # prints without a new line character at the end"
   ]
  },
  {
   "cell_type": "code",
   "execution_count": 2,
   "id": "70d58bcb",
   "metadata": {},
   "outputs": [
    {
     "name": "stdout",
     "output_type": "stream",
     "text": [
      "Hello, World\n"
     ]
    }
   ],
   "source": [
    "println(\"Hello, World\") # prints with a new line character at the end"
   ]
  },
  {
   "cell_type": "markdown",
   "id": "bf174088",
   "metadata": {},
   "source": [
    "Variable declaration and definiton. Basic built-in types (integer, floats, char, bool, string)"
   ]
  },
  {
   "cell_type": "code",
   "execution_count": 3,
   "id": "70ddec2f",
   "metadata": {},
   "outputs": [
    {
     "data": {
      "text/plain": [
       "1"
      ]
     },
     "execution_count": 3,
     "metadata": {},
     "output_type": "execute_result"
    }
   ],
   "source": [
    "a = 1"
   ]
  },
  {
   "cell_type": "markdown",
   "id": "9fdbb753",
   "metadata": {},
   "source": [
    "To know the type of a variable "
   ]
  },
  {
   "cell_type": "code",
   "execution_count": 4,
   "id": "9365f888",
   "metadata": {},
   "outputs": [
    {
     "data": {
      "text/plain": [
       "Int64"
      ]
     },
     "execution_count": 4,
     "metadata": {},
     "output_type": "execute_result"
    }
   ],
   "source": [
    "typeof(a) # the default int type is system dependent, 32 bit => Int32 ; 64 bit => Int64"
   ]
  },
  {
   "cell_type": "code",
   "execution_count": 5,
   "id": "4b104234",
   "metadata": {},
   "outputs": [
    {
     "data": {
      "text/plain": [
       "1.3212"
      ]
     },
     "execution_count": 5,
     "metadata": {},
     "output_type": "execute_result"
    }
   ],
   "source": [
    "f = 1.3212"
   ]
  },
  {
   "cell_type": "code",
   "execution_count": 6,
   "id": "ce398837",
   "metadata": {},
   "outputs": [
    {
     "data": {
      "text/plain": [
       "Float64"
      ]
     },
     "execution_count": 6,
     "metadata": {},
     "output_type": "execute_result"
    }
   ],
   "source": [
    "typeof(f) # like in the default float type is system dependent, 32 bit => Float32 ; 64 bit => Float64"
   ]
  },
  {
   "cell_type": "code",
   "execution_count": 7,
   "id": "a8accea3",
   "metadata": {},
   "outputs": [
    {
     "data": {
      "text/plain": [
       "'a': ASCII/Unicode U+0061 (category Ll: Letter, lowercase)"
      ]
     },
     "execution_count": 7,
     "metadata": {},
     "output_type": "execute_result"
    }
   ],
   "source": [
    "c = 'a'"
   ]
  },
  {
   "cell_type": "code",
   "execution_count": 8,
   "id": "29ad8465",
   "metadata": {},
   "outputs": [
    {
     "data": {
      "text/plain": [
       "Char"
      ]
     },
     "execution_count": 8,
     "metadata": {},
     "output_type": "execute_result"
    }
   ],
   "source": [
    "typeof(c)"
   ]
  },
  {
   "cell_type": "code",
   "execution_count": 9,
   "id": "3b9f5a0f",
   "metadata": {},
   "outputs": [
    {
     "data": {
      "text/plain": [
       "true"
      ]
     },
     "execution_count": 9,
     "metadata": {},
     "output_type": "execute_result"
    }
   ],
   "source": [
    "b = true"
   ]
  },
  {
   "cell_type": "code",
   "execution_count": 10,
   "id": "0170af3f",
   "metadata": {},
   "outputs": [
    {
     "data": {
      "text/plain": [
       "Bool"
      ]
     },
     "execution_count": 10,
     "metadata": {},
     "output_type": "execute_result"
    }
   ],
   "source": [
    "typeof(b)"
   ]
  },
  {
   "cell_type": "markdown",
   "id": "2d779102",
   "metadata": {},
   "source": [
    "Arithmetic Operators(+, -, /, *)"
   ]
  },
  {
   "cell_type": "code",
   "execution_count": 11,
   "id": "c8a43cf2",
   "metadata": {},
   "outputs": [
    {
     "name": "stdout",
     "output_type": "stream",
     "text": [
      "num = 1 ; num1 = 2\n"
     ]
    }
   ],
   "source": [
    "num = 1\n",
    "num1 = 2\n",
    "println(\"num = $num ; num1 = $num1\")"
   ]
  },
  {
   "cell_type": "code",
   "execution_count": 12,
   "id": "1caf433e",
   "metadata": {},
   "outputs": [
    {
     "data": {
      "text/plain": [
       "3"
      ]
     },
     "execution_count": 12,
     "metadata": {},
     "output_type": "execute_result"
    }
   ],
   "source": [
    "num + num1"
   ]
  },
  {
   "cell_type": "code",
   "execution_count": 13,
   "id": "1e1fbf67",
   "metadata": {},
   "outputs": [
    {
     "data": {
      "text/plain": [
       "-1"
      ]
     },
     "execution_count": 13,
     "metadata": {},
     "output_type": "execute_result"
    }
   ],
   "source": [
    "num - num1"
   ]
  },
  {
   "cell_type": "code",
   "execution_count": 14,
   "id": "0912a010",
   "metadata": {},
   "outputs": [
    {
     "data": {
      "text/plain": [
       "2"
      ]
     },
     "execution_count": 14,
     "metadata": {},
     "output_type": "execute_result"
    }
   ],
   "source": [
    "num * num1"
   ]
  },
  {
   "cell_type": "code",
   "execution_count": 15,
   "id": "9f56eec8",
   "metadata": {},
   "outputs": [
    {
     "data": {
      "text/plain": [
       "1.0"
      ]
     },
     "execution_count": 15,
     "metadata": {},
     "output_type": "execute_result"
    }
   ],
   "source": [
    "num / num"
   ]
  },
  {
   "cell_type": "markdown",
   "id": "d1ba5f21",
   "metadata": {},
   "source": [
    "arithmetic operators can be applied on a int and a float"
   ]
  },
  {
   "cell_type": "code",
   "execution_count": 16,
   "id": "5af8da1a",
   "metadata": {},
   "outputs": [
    {
     "data": {
      "text/plain": [
       "1.231"
      ]
     },
     "execution_count": 16,
     "metadata": {},
     "output_type": "execute_result"
    }
   ],
   "source": [
    "f_num = 1.231"
   ]
  },
  {
   "cell_type": "code",
   "execution_count": 17,
   "id": "0e2a54a2",
   "metadata": {},
   "outputs": [
    {
     "data": {
      "text/plain": [
       "3.231"
      ]
     },
     "execution_count": 17,
     "metadata": {},
     "output_type": "execute_result"
    }
   ],
   "source": [
    "num1 + f_num"
   ]
  },
  {
   "cell_type": "code",
   "execution_count": 18,
   "id": "e11374e7",
   "metadata": {},
   "outputs": [
    {
     "data": {
      "text/plain": [
       "0.7689999999999999"
      ]
     },
     "execution_count": 18,
     "metadata": {},
     "output_type": "execute_result"
    }
   ],
   "source": [
    "num1 - f_num"
   ]
  },
  {
   "cell_type": "code",
   "execution_count": 19,
   "id": "dc3a070b",
   "metadata": {},
   "outputs": [
    {
     "data": {
      "text/plain": [
       "2.462"
      ]
     },
     "execution_count": 19,
     "metadata": {},
     "output_type": "execute_result"
    }
   ],
   "source": [
    "num1 * f_num"
   ]
  },
  {
   "cell_type": "code",
   "execution_count": 20,
   "id": "e3f71b9e",
   "metadata": {},
   "outputs": [
    {
     "data": {
      "text/plain": [
       "0.6155"
      ]
     },
     "execution_count": 20,
     "metadata": {},
     "output_type": "execute_result"
    }
   ],
   "source": [
    "f_num / num1"
   ]
  },
  {
   "cell_type": "markdown",
   "id": "ac28f04b",
   "metadata": {},
   "source": [
    "Exponentiation Operator"
   ]
  },
  {
   "cell_type": "code",
   "execution_count": 21,
   "id": "3277a9e8",
   "metadata": {},
   "outputs": [
    {
     "name": "stdout",
     "output_type": "stream",
     "text": [
      "num = 2 ; num1 = 3\n"
     ]
    }
   ],
   "source": [
    "num = 2 \n",
    "num1 = 3\n",
    "println(\"num = $num ; num1 = $num1\")"
   ]
  },
  {
   "cell_type": "code",
   "execution_count": 22,
   "id": "a3cf6536",
   "metadata": {},
   "outputs": [
    {
     "data": {
      "text/plain": [
       "8"
      ]
     },
     "execution_count": 22,
     "metadata": {},
     "output_type": "execute_result"
    }
   ],
   "source": [
    "num ^ num1"
   ]
  },
  {
   "cell_type": "markdown",
   "id": "70a7c078",
   "metadata": {},
   "source": [
    "just like arithmetic operators. exponentiation operator can be applied between a int and a float"
   ]
  },
  {
   "cell_type": "code",
   "execution_count": 23,
   "id": "8f3aba6d",
   "metadata": {},
   "outputs": [
    {
     "data": {
      "text/plain": [
       "2.347296356562705"
      ]
     },
     "execution_count": 23,
     "metadata": {},
     "output_type": "execute_result"
    }
   ],
   "source": [
    "num ^ f_num"
   ]
  },
  {
   "cell_type": "code",
   "execution_count": 24,
   "id": "d1a54ab1",
   "metadata": {},
   "outputs": [
    {
     "data": {
      "text/plain": [
       "1.5153610000000002"
      ]
     },
     "execution_count": 24,
     "metadata": {},
     "output_type": "execute_result"
    }
   ],
   "source": [
    "f_num ^ num"
   ]
  },
  {
   "cell_type": "markdown",
   "id": "e1cd471e",
   "metadata": {},
   "source": [
    "Comparison Operators ( == , !=, >, < , >=, <= )"
   ]
  },
  {
   "cell_type": "markdown",
   "id": "db96c9f0",
   "metadata": {},
   "source": [
    "Equality"
   ]
  },
  {
   "cell_type": "code",
   "execution_count": 25,
   "id": "9f73cced",
   "metadata": {},
   "outputs": [
    {
     "data": {
      "text/plain": [
       "false"
      ]
     },
     "execution_count": 25,
     "metadata": {},
     "output_type": "execute_result"
    }
   ],
   "source": [
    "num == num1"
   ]
  },
  {
   "cell_type": "markdown",
   "id": "33f75550",
   "metadata": {},
   "source": [
    "Non Equality"
   ]
  },
  {
   "cell_type": "code",
   "execution_count": 26,
   "id": "d88bcfab",
   "metadata": {},
   "outputs": [
    {
     "data": {
      "text/plain": [
       "true"
      ]
     },
     "execution_count": 26,
     "metadata": {},
     "output_type": "execute_result"
    }
   ],
   "source": [
    "num != num1"
   ]
  },
  {
   "cell_type": "code",
   "execution_count": 27,
   "id": "2d1f7c11",
   "metadata": {},
   "outputs": [
    {
     "data": {
      "text/plain": [
       "false"
      ]
     },
     "execution_count": 27,
     "metadata": {},
     "output_type": "execute_result"
    }
   ],
   "source": [
    "num >  num1"
   ]
  },
  {
   "cell_type": "code",
   "execution_count": 28,
   "id": "050b7609",
   "metadata": {},
   "outputs": [
    {
     "data": {
      "text/plain": [
       "true"
      ]
     },
     "execution_count": 28,
     "metadata": {},
     "output_type": "execute_result"
    }
   ],
   "source": [
    "num < num1"
   ]
  },
  {
   "cell_type": "code",
   "execution_count": 29,
   "id": "ccf3dd4e",
   "metadata": {},
   "outputs": [
    {
     "data": {
      "text/plain": [
       "false"
      ]
     },
     "execution_count": 29,
     "metadata": {},
     "output_type": "execute_result"
    }
   ],
   "source": [
    "num > num1"
   ]
  },
  {
   "cell_type": "code",
   "execution_count": 30,
   "id": "9bac5c21",
   "metadata": {},
   "outputs": [
    {
     "data": {
      "text/plain": [
       "false"
      ]
     },
     "execution_count": 30,
     "metadata": {},
     "output_type": "execute_result"
    }
   ],
   "source": [
    "num >= num1"
   ]
  },
  {
   "cell_type": "code",
   "execution_count": 31,
   "id": "187487af",
   "metadata": {},
   "outputs": [
    {
     "data": {
      "text/plain": [
       "true"
      ]
     },
     "execution_count": 31,
     "metadata": {},
     "output_type": "execute_result"
    }
   ],
   "source": [
    "num <= num1"
   ]
  },
  {
   "cell_type": "markdown",
   "id": "7965eb4a",
   "metadata": {},
   "source": [
    "Logical Operators"
   ]
  },
  {
   "cell_type": "markdown",
   "id": "22df48fe",
   "metadata": {},
   "source": [
    "and"
   ]
  },
  {
   "cell_type": "code",
   "execution_count": 32,
   "id": "991d3f34",
   "metadata": {},
   "outputs": [
    {
     "data": {
      "text/plain": [
       "false"
      ]
     },
     "execution_count": 32,
     "metadata": {},
     "output_type": "execute_result"
    }
   ],
   "source": [
    "true && false"
   ]
  },
  {
   "cell_type": "markdown",
   "id": "7bf97c08",
   "metadata": {},
   "source": [
    "or"
   ]
  },
  {
   "cell_type": "code",
   "execution_count": 33,
   "id": "cbda45c1",
   "metadata": {},
   "outputs": [
    {
     "data": {
      "text/plain": [
       "true"
      ]
     },
     "execution_count": 33,
     "metadata": {},
     "output_type": "execute_result"
    }
   ],
   "source": [
    "true || false"
   ]
  },
  {
   "cell_type": "markdown",
   "id": "9dbfc047",
   "metadata": {},
   "source": [
    "not"
   ]
  },
  {
   "cell_type": "code",
   "execution_count": 34,
   "id": "3fcb4eb7",
   "metadata": {},
   "outputs": [
    {
     "data": {
      "text/plain": [
       "false"
      ]
     },
     "execution_count": 34,
     "metadata": {},
     "output_type": "execute_result"
    }
   ],
   "source": [
    "! true"
   ]
  },
  {
   "cell_type": "markdown",
   "id": "907aef02",
   "metadata": {},
   "source": [
    "Bitwise Operators "
   ]
  },
  {
   "cell_type": "markdown",
   "id": "3d2c5137",
   "metadata": {},
   "source": [
    "and"
   ]
  },
  {
   "cell_type": "code",
   "execution_count": 35,
   "id": "7f0c02b6",
   "metadata": {},
   "outputs": [
    {
     "data": {
      "text/plain": [
       "0"
      ]
     },
     "execution_count": 35,
     "metadata": {},
     "output_type": "execute_result"
    }
   ],
   "source": [
    "1 & 2"
   ]
  },
  {
   "cell_type": "markdown",
   "id": "690abcab",
   "metadata": {},
   "source": [
    "or"
   ]
  },
  {
   "cell_type": "code",
   "execution_count": 36,
   "id": "a08f70a1",
   "metadata": {},
   "outputs": [
    {
     "data": {
      "text/plain": [
       "3"
      ]
     },
     "execution_count": 36,
     "metadata": {},
     "output_type": "execute_result"
    }
   ],
   "source": [
    "1 | 2"
   ]
  },
  {
   "cell_type": "markdown",
   "id": "0be1cf57",
   "metadata": {},
   "source": [
    "not"
   ]
  },
  {
   "cell_type": "code",
   "execution_count": 37,
   "id": "aa6359da",
   "metadata": {},
   "outputs": [
    {
     "data": {
      "text/plain": [
       "-1"
      ]
     },
     "execution_count": 37,
     "metadata": {},
     "output_type": "execute_result"
    }
   ],
   "source": [
    "~0"
   ]
  },
  {
   "cell_type": "code",
   "execution_count": 40,
   "id": "f9f0378c-1e29-46c9-9765-7e63f1d779c1",
   "metadata": {},
   "outputs": [
    {
     "data": {
      "text/plain": [
       "3"
      ]
     },
     "execution_count": 40,
     "metadata": {},
     "output_type": "execute_result"
    }
   ],
   "source": [
    "xor(1, 2)"
   ]
  },
  {
   "cell_type": "markdown",
   "id": "9d523f2e-8aac-461f-860a-a951e72be4ee",
   "metadata": {},
   "source": [
    "Left Shift( has the effect of multiplying by 2)"
   ]
  },
  {
   "cell_type": "code",
   "execution_count": 43,
   "id": "7c87c4dc",
   "metadata": {},
   "outputs": [
    {
     "data": {
      "text/plain": [
       "4"
      ]
     },
     "execution_count": 43,
     "metadata": {},
     "output_type": "execute_result"
    }
   ],
   "source": [
    "2 << 1"
   ]
  },
  {
   "cell_type": "code",
   "execution_count": 45,
   "id": "31b5fc80-065c-4d4a-a6f9-1a63c947cc40",
   "metadata": {},
   "outputs": [
    {
     "data": {
      "text/plain": [
       "8"
      ]
     },
     "execution_count": 45,
     "metadata": {},
     "output_type": "execute_result"
    }
   ],
   "source": [
    "2 << 2"
   ]
  },
  {
   "cell_type": "markdown",
   "id": "aecd60c6-87a1-4742-923f-44d9240e56b1",
   "metadata": {},
   "source": [
    "Right Shift (has the effect of dividing by 2)"
   ]
  },
  {
   "cell_type": "code",
   "execution_count": 44,
   "id": "617556cc-d3a7-4ef4-8f84-62629e8c552e",
   "metadata": {},
   "outputs": [
    {
     "data": {
      "text/plain": [
       "1"
      ]
     },
     "execution_count": 44,
     "metadata": {},
     "output_type": "execute_result"
    }
   ],
   "source": [
    "2 >> 1"
   ]
  },
  {
   "cell_type": "code",
   "execution_count": 47,
   "id": "24126bf6-17c3-4336-9f95-423d598e9b5a",
   "metadata": {},
   "outputs": [
    {
     "data": {
      "text/plain": [
       "1"
      ]
     },
     "execution_count": 47,
     "metadata": {},
     "output_type": "execute_result"
    }
   ],
   "source": [
    "4 >> 2"
   ]
  },
  {
   "cell_type": "markdown",
   "id": "279955b6-c6c6-4557-8d9f-e1d903892d5e",
   "metadata": {},
   "source": [
    "if - else if - else blocks "
   ]
  },
  {
   "cell_type": "code",
   "execution_count": 48,
   "id": "796db171-cf04-4f54-b7f1-0900fed7525f",
   "metadata": {},
   "outputs": [
    {
     "data": {
      "text/plain": [
       "2"
      ]
     },
     "execution_count": 48,
     "metadata": {},
     "output_type": "execute_result"
    }
   ],
   "source": [
    "num = 2"
   ]
  },
  {
   "cell_type": "code",
   "execution_count": 49,
   "id": "ed71c9f8-343f-45e0-aa7f-1eb84c3aa1cd",
   "metadata": {},
   "outputs": [
    {
     "name": "stdout",
     "output_type": "stream",
     "text": [
      "even\n"
     ]
    }
   ],
   "source": [
    "if num % 2 == 0\n",
    "    println(\"even\")\n",
    "else\n",
    "    println(\"odd\")\n",
    "end"
   ]
  },
  {
   "cell_type": "code",
   "execution_count": 51,
   "id": "a492912a-8bb4-4a98-b75e-12b9d6f4c52c",
   "metadata": {},
   "outputs": [
    {
     "name": "stdout",
     "output_type": "stream",
     "text": [
      "multiple of 2\n"
     ]
    }
   ],
   "source": [
    "if num % 3 == 0\n",
    "    println(\"multiple of 3\")\n",
    "elseif num % 5 == 0\n",
    "    println(\"multiple of 5\")\n",
    "elseif num % 7 == 0\n",
    "    println(\"multiple of 7\")\n",
    "elseif num % 2 == 0\n",
    "    println(\"multiple of 2\")\n",
    "else\n",
    "    println(\"neither a mulitple of 2, 3 ,5 or 7\")\n",
    "end"
   ]
  },
  {
   "cell_type": "markdown",
   "id": "cb736c35-38c4-4538-9f6e-7a8662ada638",
   "metadata": {},
   "source": [
    "for loops"
   ]
  },
  {
   "cell_type": "code",
   "execution_count": 53,
   "id": "571794da-61a9-4106-aab8-08572b2a9330",
   "metadata": {},
   "outputs": [
    {
     "name": "stdout",
     "output_type": "stream",
     "text": [
      "1 , 2 , 3 , 4 , 5 , 6 , 7 , 8 , 9 , 10 , "
     ]
    }
   ],
   "source": [
    "for i in range(1, 10) # both included\n",
    "    print(i, \" , \")\n",
    "end"
   ]
  },
  {
   "cell_type": "markdown",
   "id": "08351172-b9f4-4ad2-a298-9308a3b5e7e8",
   "metadata": {},
   "source": [
    "while loop "
   ]
  },
  {
   "cell_type": "code",
   "execution_count": 54,
   "id": "3dc98611-b76c-493a-b261-e7ed8020b738",
   "metadata": {},
   "outputs": [
    {
     "name": "stdout",
     "output_type": "stream",
     "text": [
      "0 , 1 , 2 , 3 , 4 , "
     ]
    }
   ],
   "source": [
    "i = 0\n",
    "while (i < 5)\n",
    "    print(i, \" , \")\n",
    "    i += 1\n",
    "end"
   ]
  },
  {
   "cell_type": "markdown",
   "id": "40d56747-c0b9-43ca-8c7d-73af413d2f5e",
   "metadata": {},
   "source": [
    "function defintion"
   ]
  },
  {
   "cell_type": "code",
   "execution_count": 58,
   "id": "a6485e54-ba10-48dc-8086-58d4de9bf475",
   "metadata": {},
   "outputs": [
    {
     "data": {
      "text/plain": [
       "iseven (generic function with 1 method)"
      ]
     },
     "execution_count": 58,
     "metadata": {},
     "output_type": "execute_result"
    }
   ],
   "source": [
    "function iseven(num)\n",
    "    return num % 2 == 0\n",
    "end"
   ]
  },
  {
   "cell_type": "markdown",
   "id": "6d896339",
   "metadata": {},
   "source": [
    "function application"
   ]
  },
  {
   "cell_type": "code",
   "execution_count": 60,
   "id": "21440a59-8a0f-424c-bcb6-608bf9356ce5",
   "metadata": {},
   "outputs": [
    {
     "data": {
      "text/plain": [
       "true"
      ]
     },
     "execution_count": 60,
     "metadata": {},
     "output_type": "execute_result"
    }
   ],
   "source": [
    "iseven(2)"
   ]
  },
  {
   "cell_type": "code",
   "execution_count": 61,
   "id": "ab6c6dfe-11b1-48e5-81ad-13882cc44051",
   "metadata": {},
   "outputs": [
    {
     "data": {
      "text/plain": [
       "false"
      ]
     },
     "execution_count": 61,
     "metadata": {},
     "output_type": "execute_result"
    }
   ],
   "source": [
    "iseven(3)"
   ]
  },
  {
   "cell_type": "code",
   "execution_count": 62,
   "id": "3ddd02a3-ee8a-4965-a77b-8aa54a37f4cc",
   "metadata": {},
   "outputs": [
    {
     "data": {
      "text/plain": [
       "evenorodd (generic function with 1 method)"
      ]
     },
     "execution_count": 62,
     "metadata": {},
     "output_type": "execute_result"
    }
   ],
   "source": [
    "function evenorodd(num)\n",
    "    if num % 2 == 0\n",
    "        return \"even\"\n",
    "    else\n",
    "        return \"odd\"\n",
    "    end\n",
    "end"
   ]
  },
  {
   "cell_type": "code",
   "execution_count": 63,
   "id": "1ce5777f-4e1d-4bb5-a751-afcab30d50e7",
   "metadata": {},
   "outputs": [
    {
     "data": {
      "text/plain": [
       "\"even\""
      ]
     },
     "execution_count": 63,
     "metadata": {},
     "output_type": "execute_result"
    }
   ],
   "source": [
    "evenorodd(2)"
   ]
  },
  {
   "cell_type": "code",
   "execution_count": 64,
   "id": "5cc1d8fb-ac74-46b5-bd94-61bf501da9e0",
   "metadata": {},
   "outputs": [
    {
     "data": {
      "text/plain": [
       "\"odd\""
      ]
     },
     "execution_count": 64,
     "metadata": {},
     "output_type": "execute_result"
    }
   ],
   "source": [
    "evenorodd(3)"
   ]
  },
  {
   "cell_type": "code",
   "execution_count": null,
   "id": "bb3fe393-68c6-4f82-a3ca-6cf78aca87dc",
   "metadata": {},
   "outputs": [],
   "source": []
  }
 ],
 "metadata": {
  "kernelspec": {
   "display_name": "Julia 1.11.7",
   "language": "julia",
   "name": "julia-1.11"
  },
  "language_info": {
   "file_extension": ".jl",
   "mimetype": "application/julia",
   "name": "julia",
   "version": "1.11.7"
  }
 },
 "nbformat": 4,
 "nbformat_minor": 5
}
